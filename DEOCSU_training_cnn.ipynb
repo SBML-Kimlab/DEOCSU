{
 "cells": [
  {
   "cell_type": "code",
   "execution_count": 1,
   "id": "2eb15e30",
   "metadata": {},
   "outputs": [],
   "source": [
    "import pandas as pd\n",
    "import numpy as np\n",
    "import cv2 as cv\n",
    "import matplotlib.pyplot as plt\n",
    "import tensorflow as tf \n",
    "from sklearn.model_selection import train_test_split\n",
    "import keras\n",
    "import sys\n",
    "from keras.models import Sequential\n",
    "from keras.layers import Dense, Dropout, Flatten\n",
    "from keras.layers.convolutional import Conv2D, MaxPooling2D\n",
    "from keras.utils import np_utils\n",
    "from tensorflow.keras.utils import plot_model\n",
    "import time\n",
    "import itertools"
   ]
  },
  {
   "cell_type": "code",
   "execution_count": 258,
   "id": "338141eb",
   "metadata": {},
   "outputs": [
    {
     "data": {
      "text/plain": [
       "Index(['Unnamed: 0', 'Unnamed: 0.1', 'location', 'S1_plus', 'S1_minus',\n",
       "       'S2_plus', 'S2_minus', 'Label_TF', 'Label_size', 'data', 'img_raw',\n",
       "       'resized_img', 'Label_new'],\n",
       "      dtype='object')"
      ]
     },
     "execution_count": 258,
     "metadata": {},
     "output_type": "execute_result"
    }
   ],
   "source": [
    "df_0 = pd.read_csv('/home/sbml/nicer/220517peak_new/data/df_for_CNN_TF.csv')\n",
    "df_0.columns"
   ]
  },
  {
   "cell_type": "code",
   "execution_count": 259,
   "id": "bfea9a14",
   "metadata": {},
   "outputs": [
    {
     "data": {
      "text/plain": [
       "{'RpoD', 'RpoH_heat', 'RpoH_noheat', 'RpoN', 'RpoS'}"
      ]
     },
     "execution_count": 259,
     "metadata": {},
     "output_type": "execute_result"
    }
   ],
   "source": [
    "set(df_0['data'].tolist())"
   ]
  },
  {
   "cell_type": "code",
   "execution_count": 303,
   "id": "84b45d99",
   "metadata": {
    "scrolled": true
   },
   "outputs": [
    {
     "data": {
      "text/html": [
       "<div>\n",
       "<style scoped>\n",
       "    .dataframe tbody tr th:only-of-type {\n",
       "        vertical-align: middle;\n",
       "    }\n",
       "\n",
       "    .dataframe tbody tr th {\n",
       "        vertical-align: top;\n",
       "    }\n",
       "\n",
       "    .dataframe thead th {\n",
       "        text-align: right;\n",
       "    }\n",
       "</style>\n",
       "<table border=\"1\" class=\"dataframe\">\n",
       "  <thead>\n",
       "    <tr style=\"text-align: right;\">\n",
       "      <th></th>\n",
       "      <th>Unnamed: 0</th>\n",
       "      <th>Unnamed: 0.1</th>\n",
       "      <th>location</th>\n",
       "      <th>S1_plus</th>\n",
       "      <th>S1_minus</th>\n",
       "      <th>S2_plus</th>\n",
       "      <th>S2_minus</th>\n",
       "      <th>Label_TF</th>\n",
       "      <th>Label_size</th>\n",
       "      <th>data</th>\n",
       "      <th>img_raw</th>\n",
       "      <th>resized_img</th>\n",
       "      <th>Label_new</th>\n",
       "    </tr>\n",
       "  </thead>\n",
       "  <tbody>\n",
       "    <tr>\n",
       "      <th>0</th>\n",
       "      <td>0</td>\n",
       "      <td>0</td>\n",
       "      <td>NC_000913-156</td>\n",
       "      <td>[555.0, 558.0, 568.0, 536.0, 510.0, 494.0, 487...</td>\n",
       "      <td>[81.0, 82.0, 83.0, 81.0, 73.0, 72.0, 71.0, 69....</td>\n",
       "      <td>[528.0, 529.0, 540.0, 506.0, 502.0, 498.0, 501...</td>\n",
       "      <td>[83.0, 83.0, 85.0, 86.0, 80.0, 84.0, 85.0, 81....</td>\n",
       "      <td>1</td>\n",
       "      <td>3</td>\n",
       "      <td>RpoD</td>\n",
       "      <td>[[0.21309192200557103, 0.00958083832335329, 0....</td>\n",
       "      <td>[[0.21309192200557103, 0.00958083832335329, 0....</td>\n",
       "      <td>1</td>\n",
       "    </tr>\n",
       "    <tr>\n",
       "      <th>10</th>\n",
       "      <td>10</td>\n",
       "      <td>10</td>\n",
       "      <td>NC_000913-5665</td>\n",
       "      <td>[5.0, 7.0, 7.0, 7.0, 7.0, 7.0, 7.0, 7.0, 6.0, ...</td>\n",
       "      <td>[6.0, 6.0, 6.0, 6.0, 6.0, 6.0, 5.0, 5.0, 5.0, ...</td>\n",
       "      <td>[9.0, 10.0, 10.0, 10.0, 10.0, 10.0, 10.0, 10.0...</td>\n",
       "      <td>[5.0, 5.0, 5.0, 5.0, 5.0, 5.0, 5.0, 5.0, 6.0, ...</td>\n",
       "      <td>1</td>\n",
       "      <td>1</td>\n",
       "      <td>RpoD</td>\n",
       "      <td>[[0.07407407407407407, 0.08823529411764705, 0....</td>\n",
       "      <td>[[0.07407407407407407, 0.08823529411764705, 0....</td>\n",
       "      <td>0</td>\n",
       "    </tr>\n",
       "    <tr>\n",
       "      <th>12</th>\n",
       "      <td>12</td>\n",
       "      <td>12</td>\n",
       "      <td>NC_000913-6489</td>\n",
       "      <td>[6.0, 4.0, 4.0, 4.0, 5.0, 5.0, 5.0, 5.0, 4.0, ...</td>\n",
       "      <td>[6.0, 5.0, 5.0, 5.0, 4.0, 4.0, 4.0, 4.0, 4.0, ...</td>\n",
       "      <td>[4.0, 4.0, 4.0, 4.0, 4.0, 4.0, 4.0, 4.0, 4.0, ...</td>\n",
       "      <td>[1.0, 1.0, 2.0, 2.0, 2.0, 5.0, 5.0, 6.0, 6.0, ...</td>\n",
       "      <td>1</td>\n",
       "      <td>1</td>\n",
       "      <td>RpoD</td>\n",
       "      <td>[[0.12195121951219515, 0.1176470588235294, 0.0...</td>\n",
       "      <td>[[0.12195121951219515, 0.1176470588235294, 0.0...</td>\n",
       "      <td>0</td>\n",
       "    </tr>\n",
       "    <tr>\n",
       "      <th>15</th>\n",
       "      <td>15</td>\n",
       "      <td>15</td>\n",
       "      <td>NC_000913-8203</td>\n",
       "      <td>[38.0, 38.0, 38.0, 38.0, 36.0, 36.0, 35.0, 35....</td>\n",
       "      <td>[13.0, 13.0, 12.0, 13.0, 13.0, 13.0, 13.0, 13....</td>\n",
       "      <td>[34.0, 33.0, 32.0, 32.0, 30.0, 30.0, 30.0, 30....</td>\n",
       "      <td>[19.0, 19.0, 20.0, 22.0, 18.0, 17.0, 18.0, 18....</td>\n",
       "      <td>1</td>\n",
       "      <td>2</td>\n",
       "      <td>RpoD</td>\n",
       "      <td>[[0.10847457627118644, 0.0028409090909090953, ...</td>\n",
       "      <td>[[0.10847457627118644, 0.0028409090909090953, ...</td>\n",
       "      <td>1</td>\n",
       "    </tr>\n",
       "    <tr>\n",
       "      <th>21</th>\n",
       "      <td>21</td>\n",
       "      <td>21</td>\n",
       "      <td>NC_000913-10565</td>\n",
       "      <td>[10.0, 10.0, 11.0, 12.0, 13.0, 14.0, 14.0, 15....</td>\n",
       "      <td>[7.0, 7.0, 7.0, 7.0, 6.0, 6.0, 6.0, 6.0, 6.0, ...</td>\n",
       "      <td>[8.0, 8.0, 8.0, 8.0, 8.0, 12.0, 9.0, 9.0, 11.0...</td>\n",
       "      <td>[7.0, 7.0, 7.0, 7.0, 8.0, 9.0, 9.0, 9.0, 9.0, ...</td>\n",
       "      <td>1</td>\n",
       "      <td>1</td>\n",
       "      <td>RpoD</td>\n",
       "      <td>[[0.21052631578947367, 0.17241379310344826, 0....</td>\n",
       "      <td>[[0.21052631578947367, 0.17241379310344826, 0....</td>\n",
       "      <td>0</td>\n",
       "    </tr>\n",
       "    <tr>\n",
       "      <th>...</th>\n",
       "      <td>...</td>\n",
       "      <td>...</td>\n",
       "      <td>...</td>\n",
       "      <td>...</td>\n",
       "      <td>...</td>\n",
       "      <td>...</td>\n",
       "      <td>...</td>\n",
       "      <td>...</td>\n",
       "      <td>...</td>\n",
       "      <td>...</td>\n",
       "      <td>...</td>\n",
       "      <td>...</td>\n",
       "      <td>...</td>\n",
       "    </tr>\n",
       "    <tr>\n",
       "      <th>23208</th>\n",
       "      <td>23208</td>\n",
       "      <td>5704</td>\n",
       "      <td>NC_000913-3160758</td>\n",
       "      <td>[0.0, 0.0, 0.0, 0.0, 0.0, 0.0, 0.0, 0.0, 0.0, ...</td>\n",
       "      <td>[0.0, 0.0, 0.0, 0.0, 0.0, 0.0, 0.0, 0.0, 0.0, ...</td>\n",
       "      <td>[2.0, 2.0, 2.0, 2.0, 2.0, 2.0, 2.0, 2.0, 2.0, ...</td>\n",
       "      <td>[17.0, 17.0, 17.0, 17.0, 17.0, 17.0, 17.0, 17....</td>\n",
       "      <td>0</td>\n",
       "      <td>0</td>\n",
       "      <td>RpoH_noheat</td>\n",
       "      <td>[[0.0, 0.0, 1.0, 0.7391304347826086], [0.0, 0....</td>\n",
       "      <td>[[0.0, 0.0, 1.0, 0.7391304347826086], [0.0, 0....</td>\n",
       "      <td>0</td>\n",
       "    </tr>\n",
       "    <tr>\n",
       "      <th>23853</th>\n",
       "      <td>23853</td>\n",
       "      <td>6349</td>\n",
       "      <td>NC_000913-3514243</td>\n",
       "      <td>[0.0, 0.0, 0.0, 0.0, 0.0, 0.0, 0.0, 0.0, 0.0, ...</td>\n",
       "      <td>[0.0, 0.0, 0.0, 0.0, 0.0, 0.0, 3.0, 3.0, 3.0, ...</td>\n",
       "      <td>[0.0, 0.0, 0.0, 0.0, 0.0, 0.0, 0.0, 0.0, 0.0, ...</td>\n",
       "      <td>[9.0, 9.0, 9.0, 9.0, 9.0, 0.0, 0.0, 0.0, 0.0, ...</td>\n",
       "      <td>0</td>\n",
       "      <td>0</td>\n",
       "      <td>RpoH_noheat</td>\n",
       "      <td>[[0.0, 0.0, 0.0, 0.4090909090909091], [0.0, 0....</td>\n",
       "      <td>[[0.0, 0.0, 0.0, 0.4090909090909091], [0.0, 0....</td>\n",
       "      <td>0</td>\n",
       "    </tr>\n",
       "    <tr>\n",
       "      <th>22689</th>\n",
       "      <td>22689</td>\n",
       "      <td>5185</td>\n",
       "      <td>NC_000913-2868914</td>\n",
       "      <td>[0.0, 0.0, 0.0, 0.0, 0.0, 0.0, 0.0, 0.0, 0.0, ...</td>\n",
       "      <td>[0.0, 0.0, 0.0, 0.0, 0.0, 0.0, 0.0, 0.0, 0.0, ...</td>\n",
       "      <td>[5.0, 5.0, 5.0, 5.0, 5.0, 5.0, 8.0, 8.0, 8.0, ...</td>\n",
       "      <td>[5.0, 5.0, 5.0, 5.0, 5.0, 5.0, 5.0, 5.0, 5.0, ...</td>\n",
       "      <td>0</td>\n",
       "      <td>0</td>\n",
       "      <td>RpoH_noheat</td>\n",
       "      <td>[[0.0, 0.0, 0.625, 1.0], [0.0, 0.0, 0.625, 1.0...</td>\n",
       "      <td>[[0.0, 0.0, 0.625, 1.0], [0.0, 0.0, 0.625, 1.0...</td>\n",
       "      <td>0</td>\n",
       "    </tr>\n",
       "    <tr>\n",
       "      <th>21076</th>\n",
       "      <td>21076</td>\n",
       "      <td>3572</td>\n",
       "      <td>NC_000913-1980092</td>\n",
       "      <td>[0.0, 0.0, 0.0, 0.0, 0.0, 0.0, 0.0, 0.0, 0.0, ...</td>\n",
       "      <td>[0.0, 0.0, 0.0, 0.0, 0.0, 0.0, 0.0, 0.0, 0.0, ...</td>\n",
       "      <td>[5.0, 5.0, 5.0, 5.0, 5.0, 5.0, 5.0, 5.0, 5.0, ...</td>\n",
       "      <td>[0.0, 0.0, 0.0, 0.0, 0.0, 0.0, 0.0, 0.0, 0.0, ...</td>\n",
       "      <td>0</td>\n",
       "      <td>0</td>\n",
       "      <td>RpoH_noheat</td>\n",
       "      <td>[[0.0, 0.0, 0.8333333333333333, 0.0], [0.0, 0....</td>\n",
       "      <td>[[0.0, 0.0, 0.8333333333333333, 0.0], [0.0, 0....</td>\n",
       "      <td>0</td>\n",
       "    </tr>\n",
       "    <tr>\n",
       "      <th>27334</th>\n",
       "      <td>27334</td>\n",
       "      <td>1440</td>\n",
       "      <td>NC_000913-801350</td>\n",
       "      <td>[0.0, 0.0, 0.0, 0.0, 0.0, 0.0, 0.0, 0.0, 0.0, ...</td>\n",
       "      <td>[0.0, 0.0, 0.0, 0.0, 0.0, 0.0, 0.0, 0.0, 0.0, ...</td>\n",
       "      <td>[0.0, 0.0, 0.0, 0.0, 0.0, 0.0, 0.0, 0.0, 0.0, ...</td>\n",
       "      <td>[0.0, 0.0, 0.0, 0.0, 0.0, 0.0, 0.0, 0.0, 0.0, ...</td>\n",
       "      <td>0</td>\n",
       "      <td>0</td>\n",
       "      <td>RpoN</td>\n",
       "      <td>[[0.0, 0.0, 0.0, 0.0], [0.0, 0.0, 0.0, 0.0], [...</td>\n",
       "      <td>[[0.0, 0.0, 0.0, 0.0], [0.0, 0.0, 0.0, 0.0], [...</td>\n",
       "      <td>0</td>\n",
       "    </tr>\n",
       "  </tbody>\n",
       "</table>\n",
       "<p>6657 rows × 13 columns</p>\n",
       "</div>"
      ],
      "text/plain": [
       "       Unnamed: 0  Unnamed: 0.1           location  \\\n",
       "0               0             0      NC_000913-156   \n",
       "10             10            10     NC_000913-5665   \n",
       "12             12            12     NC_000913-6489   \n",
       "15             15            15     NC_000913-8203   \n",
       "21             21            21    NC_000913-10565   \n",
       "...           ...           ...                ...   \n",
       "23208       23208          5704  NC_000913-3160758   \n",
       "23853       23853          6349  NC_000913-3514243   \n",
       "22689       22689          5185  NC_000913-2868914   \n",
       "21076       21076          3572  NC_000913-1980092   \n",
       "27334       27334          1440   NC_000913-801350   \n",
       "\n",
       "                                                 S1_plus  \\\n",
       "0      [555.0, 558.0, 568.0, 536.0, 510.0, 494.0, 487...   \n",
       "10     [5.0, 7.0, 7.0, 7.0, 7.0, 7.0, 7.0, 7.0, 6.0, ...   \n",
       "12     [6.0, 4.0, 4.0, 4.0, 5.0, 5.0, 5.0, 5.0, 4.0, ...   \n",
       "15     [38.0, 38.0, 38.0, 38.0, 36.0, 36.0, 35.0, 35....   \n",
       "21     [10.0, 10.0, 11.0, 12.0, 13.0, 14.0, 14.0, 15....   \n",
       "...                                                  ...   \n",
       "23208  [0.0, 0.0, 0.0, 0.0, 0.0, 0.0, 0.0, 0.0, 0.0, ...   \n",
       "23853  [0.0, 0.0, 0.0, 0.0, 0.0, 0.0, 0.0, 0.0, 0.0, ...   \n",
       "22689  [0.0, 0.0, 0.0, 0.0, 0.0, 0.0, 0.0, 0.0, 0.0, ...   \n",
       "21076  [0.0, 0.0, 0.0, 0.0, 0.0, 0.0, 0.0, 0.0, 0.0, ...   \n",
       "27334  [0.0, 0.0, 0.0, 0.0, 0.0, 0.0, 0.0, 0.0, 0.0, ...   \n",
       "\n",
       "                                                S1_minus  \\\n",
       "0      [81.0, 82.0, 83.0, 81.0, 73.0, 72.0, 71.0, 69....   \n",
       "10     [6.0, 6.0, 6.0, 6.0, 6.0, 6.0, 5.0, 5.0, 5.0, ...   \n",
       "12     [6.0, 5.0, 5.0, 5.0, 4.0, 4.0, 4.0, 4.0, 4.0, ...   \n",
       "15     [13.0, 13.0, 12.0, 13.0, 13.0, 13.0, 13.0, 13....   \n",
       "21     [7.0, 7.0, 7.0, 7.0, 6.0, 6.0, 6.0, 6.0, 6.0, ...   \n",
       "...                                                  ...   \n",
       "23208  [0.0, 0.0, 0.0, 0.0, 0.0, 0.0, 0.0, 0.0, 0.0, ...   \n",
       "23853  [0.0, 0.0, 0.0, 0.0, 0.0, 0.0, 3.0, 3.0, 3.0, ...   \n",
       "22689  [0.0, 0.0, 0.0, 0.0, 0.0, 0.0, 0.0, 0.0, 0.0, ...   \n",
       "21076  [0.0, 0.0, 0.0, 0.0, 0.0, 0.0, 0.0, 0.0, 0.0, ...   \n",
       "27334  [0.0, 0.0, 0.0, 0.0, 0.0, 0.0, 0.0, 0.0, 0.0, ...   \n",
       "\n",
       "                                                 S2_plus  \\\n",
       "0      [528.0, 529.0, 540.0, 506.0, 502.0, 498.0, 501...   \n",
       "10     [9.0, 10.0, 10.0, 10.0, 10.0, 10.0, 10.0, 10.0...   \n",
       "12     [4.0, 4.0, 4.0, 4.0, 4.0, 4.0, 4.0, 4.0, 4.0, ...   \n",
       "15     [34.0, 33.0, 32.0, 32.0, 30.0, 30.0, 30.0, 30....   \n",
       "21     [8.0, 8.0, 8.0, 8.0, 8.0, 12.0, 9.0, 9.0, 11.0...   \n",
       "...                                                  ...   \n",
       "23208  [2.0, 2.0, 2.0, 2.0, 2.0, 2.0, 2.0, 2.0, 2.0, ...   \n",
       "23853  [0.0, 0.0, 0.0, 0.0, 0.0, 0.0, 0.0, 0.0, 0.0, ...   \n",
       "22689  [5.0, 5.0, 5.0, 5.0, 5.0, 5.0, 8.0, 8.0, 8.0, ...   \n",
       "21076  [5.0, 5.0, 5.0, 5.0, 5.0, 5.0, 5.0, 5.0, 5.0, ...   \n",
       "27334  [0.0, 0.0, 0.0, 0.0, 0.0, 0.0, 0.0, 0.0, 0.0, ...   \n",
       "\n",
       "                                                S2_minus  Label_TF  \\\n",
       "0      [83.0, 83.0, 85.0, 86.0, 80.0, 84.0, 85.0, 81....         1   \n",
       "10     [5.0, 5.0, 5.0, 5.0, 5.0, 5.0, 5.0, 5.0, 6.0, ...         1   \n",
       "12     [1.0, 1.0, 2.0, 2.0, 2.0, 5.0, 5.0, 6.0, 6.0, ...         1   \n",
       "15     [19.0, 19.0, 20.0, 22.0, 18.0, 17.0, 18.0, 18....         1   \n",
       "21     [7.0, 7.0, 7.0, 7.0, 8.0, 9.0, 9.0, 9.0, 9.0, ...         1   \n",
       "...                                                  ...       ...   \n",
       "23208  [17.0, 17.0, 17.0, 17.0, 17.0, 17.0, 17.0, 17....         0   \n",
       "23853  [9.0, 9.0, 9.0, 9.0, 9.0, 0.0, 0.0, 0.0, 0.0, ...         0   \n",
       "22689  [5.0, 5.0, 5.0, 5.0, 5.0, 5.0, 5.0, 5.0, 5.0, ...         0   \n",
       "21076  [0.0, 0.0, 0.0, 0.0, 0.0, 0.0, 0.0, 0.0, 0.0, ...         0   \n",
       "27334  [0.0, 0.0, 0.0, 0.0, 0.0, 0.0, 0.0, 0.0, 0.0, ...         0   \n",
       "\n",
       "       Label_size         data  \\\n",
       "0               3         RpoD   \n",
       "10              1         RpoD   \n",
       "12              1         RpoD   \n",
       "15              2         RpoD   \n",
       "21              1         RpoD   \n",
       "...           ...          ...   \n",
       "23208           0  RpoH_noheat   \n",
       "23853           0  RpoH_noheat   \n",
       "22689           0  RpoH_noheat   \n",
       "21076           0  RpoH_noheat   \n",
       "27334           0         RpoN   \n",
       "\n",
       "                                                 img_raw  \\\n",
       "0      [[0.21309192200557103, 0.00958083832335329, 0....   \n",
       "10     [[0.07407407407407407, 0.08823529411764705, 0....   \n",
       "12     [[0.12195121951219515, 0.1176470588235294, 0.0...   \n",
       "15     [[0.10847457627118644, 0.0028409090909090953, ...   \n",
       "21     [[0.21052631578947367, 0.17241379310344826, 0....   \n",
       "...                                                  ...   \n",
       "23208  [[0.0, 0.0, 1.0, 0.7391304347826086], [0.0, 0....   \n",
       "23853  [[0.0, 0.0, 0.0, 0.4090909090909091], [0.0, 0....   \n",
       "22689  [[0.0, 0.0, 0.625, 1.0], [0.0, 0.0, 0.625, 1.0...   \n",
       "21076  [[0.0, 0.0, 0.8333333333333333, 0.0], [0.0, 0....   \n",
       "27334  [[0.0, 0.0, 0.0, 0.0], [0.0, 0.0, 0.0, 0.0], [...   \n",
       "\n",
       "                                             resized_img  Label_new  \n",
       "0      [[0.21309192200557103, 0.00958083832335329, 0....          1  \n",
       "10     [[0.07407407407407407, 0.08823529411764705, 0....          0  \n",
       "12     [[0.12195121951219515, 0.1176470588235294, 0.0...          0  \n",
       "15     [[0.10847457627118644, 0.0028409090909090953, ...          1  \n",
       "21     [[0.21052631578947367, 0.17241379310344826, 0....          0  \n",
       "...                                                  ...        ...  \n",
       "23208  [[0.0, 0.0, 1.0, 0.7391304347826086], [0.0, 0....          0  \n",
       "23853  [[0.0, 0.0, 0.0, 0.4090909090909091], [0.0, 0....          0  \n",
       "22689  [[0.0, 0.0, 0.625, 1.0], [0.0, 0.0, 0.625, 1.0...          0  \n",
       "21076  [[0.0, 0.0, 0.8333333333333333, 0.0], [0.0, 0....          0  \n",
       "27334  [[0.0, 0.0, 0.0, 0.0], [0.0, 0.0, 0.0, 0.0], [...          0  \n",
       "\n",
       "[6657 rows x 13 columns]"
      ]
     },
     "execution_count": 303,
     "metadata": {},
     "output_type": "execute_result"
    }
   ],
   "source": [
    "df_T = df_0[df_0['Label_TF'] == 1]\n",
    "df_F = df_0[df_0['Label_TF'] == 0]\n",
    "\n",
    "df_F1 = df_F.sample(frac = 0.09)\n",
    "df = pd.concat([df_T, df_F1])\n",
    "df"
   ]
  },
  {
   "cell_type": "code",
   "execution_count": 304,
   "id": "410c7586",
   "metadata": {},
   "outputs": [],
   "source": [
    "X_all = [eval(i) for i in df['resized_img'].tolist()]\n",
    "X_all = np.array(X_all)"
   ]
  },
  {
   "cell_type": "code",
   "execution_count": 305,
   "id": "a4d6f769",
   "metadata": {},
   "outputs": [],
   "source": [
    "y = np.array(df['Label_TF'].tolist())"
   ]
  },
  {
   "cell_type": "code",
   "execution_count": 306,
   "id": "e29e8137",
   "metadata": {},
   "outputs": [
    {
     "data": {
      "text/plain": [
       "(4659, 256, 4)"
      ]
     },
     "execution_count": 306,
     "metadata": {},
     "output_type": "execute_result"
    }
   ],
   "source": [
    "x_train, x_test, y_train, y_test = train_test_split(X_all, y, test_size = 0.3)\n",
    "x_valid, x_test, y_valid, y_test = train_test_split(x_test, y_test, test_size = 0.3)\n",
    "x_train.shape"
   ]
  },
  {
   "cell_type": "code",
   "execution_count": 307,
   "id": "68100d56",
   "metadata": {},
   "outputs": [
    {
     "data": {
      "text/plain": [
       "(600, 256, 4, 1)"
      ]
     },
     "execution_count": 307,
     "metadata": {},
     "output_type": "execute_result"
    }
   ],
   "source": [
    "rows = len(X_all[0])\n",
    "cols = 4\n",
    "input_shape = (rows, cols, 1)\n",
    "x_train = x_train.reshape(x_train.shape[0], rows, cols, 1)\n",
    "x_test = x_test.reshape(x_test.shape[0], rows, cols, 1)\n",
    "x_valid = x_valid.reshape(x_valid.shape[0], rows, cols, 1)\n",
    "\n",
    "x_train = x_train.astype('float32') /255.0\n",
    "x_test = x_test.astype('float32')/255.0\n",
    "x_valid = x_valid.astype('float32')/255.0\n",
    "\n",
    "y_train = keras.utils.np_utils.to_categorical(y_train, 2)   \n",
    "y_test = keras.utils.np_utils.to_categorical(y_test, 2)\n",
    "y_valid = keras.utils.np_utils.to_categorical(y_valid, 2)\n",
    "\n",
    "\n",
    "batch_size = 128\n",
    "num_classes = 2\n",
    "x_test.shape"
   ]
  },
  {
   "cell_type": "code",
   "execution_count": 308,
   "id": "858eb219",
   "metadata": {},
   "outputs": [
    {
     "name": "stdout",
     "output_type": "stream",
     "text": [
      "Model: \"sequential_33\"\n",
      "_________________________________________________________________\n",
      " Layer (type)                Output Shape              Param #   \n",
      "=================================================================\n",
      " conv2d_132 (Conv2D)         (None, 256, 4, 32)        832       \n",
      "                                                                 \n",
      " conv2d_133 (Conv2D)         (None, 256, 4, 32)        25632     \n",
      "                                                                 \n",
      " max_pooling2d_66 (MaxPoolin  (None, 255, 3, 32)       0         \n",
      " g2D)                                                            \n",
      "                                                                 \n",
      " conv2d_134 (Conv2D)         (None, 255, 3, 32)        25632     \n",
      "                                                                 \n",
      " conv2d_135 (Conv2D)         (None, 255, 3, 32)        25632     \n",
      "                                                                 \n",
      " max_pooling2d_67 (MaxPoolin  (None, 127, 1, 32)       0         \n",
      " g2D)                                                            \n",
      "                                                                 \n",
      " dropout_66 (Dropout)        (None, 127, 1, 32)        0         \n",
      "                                                                 \n",
      " flatten_33 (Flatten)        (None, 4064)              0         \n",
      "                                                                 \n",
      " dense_66 (Dense)            (None, 128)               520320    \n",
      "                                                                 \n",
      " dropout_67 (Dropout)        (None, 128)               0         \n",
      "                                                                 \n",
      " dense_67 (Dense)            (None, 2)                 258       \n",
      "                                                                 \n",
      "=================================================================\n",
      "Total params: 598,306\n",
      "Trainable params: 598,306\n",
      "Non-trainable params: 0\n",
      "_________________________________________________________________\n"
     ]
    }
   ],
   "source": [
    "model_cnn = Sequential()\n",
    "model_cnn.add(Conv2D(32, kernel_size = (5,5), strides = (1,1), padding = 'same', activation = 'relu', input_shape = input_shape))\n",
    "\n",
    "model_cnn.add(Conv2D(32, kernel_size = (5,5), strides = (1,1), padding = 'same', activation = 'relu', input_shape = input_shape))\n",
    "\n",
    "model_cnn.add(MaxPooling2D(pool_size = (2,2), strides = (1,1)))\n",
    "\n",
    "model_cnn.add(Conv2D(32, (5,5), activation = 'relu', padding = 'same'))\n",
    "\n",
    "model_cnn.add(Conv2D(32, (5,5), activation = 'relu', padding = 'same'))\n",
    "\n",
    "model_cnn.add(MaxPooling2D(pool_size = (2,2)))\n",
    "\n",
    "\n",
    "model_cnn.add(Dropout(0.25))\n",
    "model_cnn.add(Flatten())\n",
    "model_cnn.add(Dense(128,activation = 'relu'))\n",
    "model_cnn.add(Dropout(0.5))\n",
    "model_cnn.add(Dense(num_classes, activation = 'softmax'))\n",
    "model_cnn.summary()"
   ]
  },
  {
   "cell_type": "code",
   "execution_count": 309,
   "id": "7e9218ad",
   "metadata": {
    "scrolled": true
   },
   "outputs": [
    {
     "name": "stdout",
     "output_type": "stream",
     "text": [
      "start time :  1652762404.0710878\n",
      "Epoch 1/40\n",
      "146/146 [==============================] - 1s 5ms/step - loss: 0.6758 - accuracy: 0.5727 - val_loss: 0.2669 - val_accuracy: 0.8991\n",
      "Epoch 2/40\n",
      "146/146 [==============================] - 1s 4ms/step - loss: 0.2550 - accuracy: 0.9137 - val_loss: 0.1997 - val_accuracy: 0.9406\n",
      "Epoch 3/40\n",
      "146/146 [==============================] - 1s 4ms/step - loss: 0.2152 - accuracy: 0.9322 - val_loss: 0.2035 - val_accuracy: 0.9313\n",
      "Epoch 4/40\n",
      "146/146 [==============================] - 1s 4ms/step - loss: 0.2110 - accuracy: 0.9307 - val_loss: 0.1850 - val_accuracy: 0.9392\n",
      "Epoch 5/40\n",
      "146/146 [==============================] - 1s 4ms/step - loss: 0.1964 - accuracy: 0.9352 - val_loss: 0.1876 - val_accuracy: 0.9392\n",
      "Epoch 6/40\n",
      "146/146 [==============================] - 1s 4ms/step - loss: 0.1736 - accuracy: 0.9408 - val_loss: 0.1651 - val_accuracy: 0.9442\n",
      "Epoch 7/40\n",
      "146/146 [==============================] - 1s 4ms/step - loss: 0.1669 - accuracy: 0.9412 - val_loss: 0.1667 - val_accuracy: 0.9442\n",
      "Epoch 8/40\n",
      "146/146 [==============================] - 1s 4ms/step - loss: 0.1566 - accuracy: 0.9451 - val_loss: 0.1537 - val_accuracy: 0.9464\n",
      "Epoch 9/40\n",
      "146/146 [==============================] - 1s 4ms/step - loss: 0.1448 - accuracy: 0.9472 - val_loss: 0.1845 - val_accuracy: 0.9320\n",
      "Epoch 10/40\n",
      "146/146 [==============================] - 1s 4ms/step - loss: 0.1508 - accuracy: 0.9453 - val_loss: 0.1599 - val_accuracy: 0.9442\n",
      "Epoch 11/40\n",
      "146/146 [==============================] - 1s 4ms/step - loss: 0.1427 - accuracy: 0.9483 - val_loss: 0.1432 - val_accuracy: 0.9521\n",
      "Epoch 12/40\n",
      "146/146 [==============================] - 1s 4ms/step - loss: 0.1470 - accuracy: 0.9474 - val_loss: 0.1706 - val_accuracy: 0.9378\n",
      "Epoch 13/40\n",
      "146/146 [==============================] - 1s 4ms/step - loss: 0.1440 - accuracy: 0.9468 - val_loss: 0.1638 - val_accuracy: 0.9392\n",
      "Epoch 14/40\n",
      "146/146 [==============================] - 1s 4ms/step - loss: 0.1396 - accuracy: 0.9508 - val_loss: 0.2485 - val_accuracy: 0.9156\n",
      "Epoch 15/40\n",
      "146/146 [==============================] - 1s 4ms/step - loss: 0.1499 - accuracy: 0.9483 - val_loss: 0.1474 - val_accuracy: 0.9485\n",
      "Epoch 16/40\n",
      "146/146 [==============================] - 1s 4ms/step - loss: 0.1430 - accuracy: 0.9493 - val_loss: 0.1605 - val_accuracy: 0.9435\n",
      "Epoch 17/40\n",
      "146/146 [==============================] - 1s 4ms/step - loss: 0.1432 - accuracy: 0.9496 - val_loss: 0.1487 - val_accuracy: 0.9485\n",
      "Epoch 18/40\n",
      "146/146 [==============================] - 1s 4ms/step - loss: 0.1326 - accuracy: 0.9539 - val_loss: 0.1443 - val_accuracy: 0.9471\n",
      "Epoch 19/40\n",
      "146/146 [==============================] - 1s 4ms/step - loss: 0.1567 - accuracy: 0.9451 - val_loss: 0.1629 - val_accuracy: 0.9356\n",
      "Epoch 20/40\n",
      "146/146 [==============================] - 1s 4ms/step - loss: 0.1411 - accuracy: 0.9491 - val_loss: 0.1399 - val_accuracy: 0.9492\n",
      "Epoch 21/40\n",
      "146/146 [==============================] - 1s 4ms/step - loss: 0.1366 - accuracy: 0.9491 - val_loss: 0.1490 - val_accuracy: 0.9485\n",
      "Epoch 22/40\n",
      "146/146 [==============================] - 1s 4ms/step - loss: 0.1320 - accuracy: 0.9519 - val_loss: 0.1469 - val_accuracy: 0.9514\n",
      "Epoch 23/40\n",
      "146/146 [==============================] - 1s 4ms/step - loss: 0.1333 - accuracy: 0.9508 - val_loss: 0.1385 - val_accuracy: 0.9514\n",
      "Epoch 24/40\n",
      "146/146 [==============================] - 1s 4ms/step - loss: 0.1302 - accuracy: 0.9508 - val_loss: 0.1488 - val_accuracy: 0.9514\n",
      "Epoch 25/40\n",
      "146/146 [==============================] - 1s 4ms/step - loss: 0.1234 - accuracy: 0.9566 - val_loss: 0.1508 - val_accuracy: 0.9464\n",
      "Epoch 26/40\n",
      "146/146 [==============================] - 1s 4ms/step - loss: 0.1275 - accuracy: 0.9524 - val_loss: 0.1690 - val_accuracy: 0.9464\n",
      "Epoch 27/40\n",
      "146/146 [==============================] - 1s 4ms/step - loss: 0.1278 - accuracy: 0.9551 - val_loss: 0.1414 - val_accuracy: 0.9521\n",
      "Epoch 28/40\n",
      "146/146 [==============================] - 1s 4ms/step - loss: 0.1275 - accuracy: 0.9539 - val_loss: 0.1441 - val_accuracy: 0.9506\n",
      "Epoch 29/40\n",
      "146/146 [==============================] - 1s 4ms/step - loss: 0.1233 - accuracy: 0.9586 - val_loss: 0.1358 - val_accuracy: 0.9521\n",
      "Epoch 30/40\n",
      "146/146 [==============================] - 1s 4ms/step - loss: 0.1317 - accuracy: 0.9508 - val_loss: 0.1359 - val_accuracy: 0.9492\n",
      "Epoch 31/40\n",
      "146/146 [==============================] - 1s 4ms/step - loss: 0.1298 - accuracy: 0.9545 - val_loss: 0.1851 - val_accuracy: 0.9320\n",
      "Epoch 32/40\n",
      "146/146 [==============================] - 1s 4ms/step - loss: 0.1297 - accuracy: 0.9558 - val_loss: 0.1493 - val_accuracy: 0.9499\n",
      "Epoch 33/40\n",
      "146/146 [==============================] - 1s 4ms/step - loss: 0.1310 - accuracy: 0.9513 - val_loss: 0.1409 - val_accuracy: 0.9528\n",
      "Epoch 34/40\n",
      "146/146 [==============================] - 1s 4ms/step - loss: 0.1261 - accuracy: 0.9536 - val_loss: 0.1377 - val_accuracy: 0.9542\n",
      "Epoch 35/40\n",
      "146/146 [==============================] - 1s 4ms/step - loss: 0.1304 - accuracy: 0.9549 - val_loss: 0.1440 - val_accuracy: 0.9456\n",
      "Epoch 36/40\n",
      "146/146 [==============================] - 1s 4ms/step - loss: 0.1275 - accuracy: 0.9549 - val_loss: 0.1492 - val_accuracy: 0.9521\n",
      "Epoch 37/40\n",
      "146/146 [==============================] - 1s 4ms/step - loss: 0.1341 - accuracy: 0.9536 - val_loss: 0.1425 - val_accuracy: 0.9514\n",
      "Epoch 38/40\n",
      "146/146 [==============================] - 1s 4ms/step - loss: 0.1256 - accuracy: 0.9560 - val_loss: 0.1448 - val_accuracy: 0.9492\n",
      "Epoch 39/40\n",
      "146/146 [==============================] - 1s 4ms/step - loss: 0.1193 - accuracy: 0.9554 - val_loss: 0.1641 - val_accuracy: 0.9492\n",
      "Epoch 40/40\n",
      "146/146 [==============================] - 1s 4ms/step - loss: 0.1400 - accuracy: 0.9481 - val_loss: 0.1537 - val_accuracy: 0.9514\n",
      "Test loss: 0.16040191054344177\n",
      "Test accuracy: 0.9549999833106995\n",
      "end time :  1652762427.2468452\n",
      "tot time :  23.17575740814209\n"
     ]
    }
   ],
   "source": [
    "epochs = 40\n",
    "\n",
    "start = time.time()\n",
    "print('start time : ' , start)\n",
    "model_cnn.compile(loss = 'categorical_crossentropy', optimizer = 'adam', metrics = ['accuracy'])\n",
    "hist2 = model_cnn.fit(x_train, y_train, epochs = epochs, verbose = 1, validation_data = (x_valid, y_valid))\n",
    "score = model_cnn.evaluate(x_test, y_test, verbose = 0)\n",
    "print('Test loss:', score[0])\n",
    "print('Test accuracy:', score[1])\n",
    "end = time.time()\n",
    "print('end time : ', end)\n",
    "print('tot time : ', end-start)"
   ]
  },
  {
   "cell_type": "code",
   "execution_count": 310,
   "id": "606be9b4",
   "metadata": {
    "scrolled": false
   },
   "outputs": [
    {
     "data": {
      "text/plain": [
       "Text(0.5, 1.0, 'cnn_epoch40_loss')"
      ]
     },
     "execution_count": 310,
     "metadata": {},
     "output_type": "execute_result"
    },
    {
     "data": {
      "image/png": "[encoded data removed]",
      "text/plain": [
       "<Figure size 432x288 with 1 Axes>"
      ]
     },
     "metadata": {
      "needs_background": "light"
     },
     "output_type": "display_data"
    }
   ],
   "source": [
    "y_vloss = hist2.history['val_loss']\n",
    "y_loss = hist2.history['loss']\n",
    "x_len = np.arange(len(y_loss))\n",
    "\n",
    "plt.plot(x_len, y_vloss, marker='.', c='red', label=\"Validation-set Loss\")\n",
    "plt.plot(x_len, y_loss, marker='.', c='blue', label=\"Train-set Loss\")\n",
    "plt.legend()\n",
    "plt.title('cnn_epoch40_loss')\n",
    "#plt.savefig('/home/sbml/nicer/220517peak_new/CNN/loss_allpeak.svg')\n"
   ]
  },
  {
   "cell_type": "code",
   "execution_count": 311,
   "id": "a2ef455d",
   "metadata": {
    "scrolled": true
   },
   "outputs": [
    {
     "data": {
      "text/plain": [
       "Text(0.5, 1.0, 'cnn_epoch40_accuracy')"
      ]
     },
     "execution_count": 311,
     "metadata": {},
     "output_type": "execute_result"
    },
    {
     "data": {
      "image/png": "[encoded data removed]",
      "text/plain": [
       "<Figure size 432x288 with 1 Axes>"
      ]
     },
     "metadata": {
      "needs_background": "light"
     },
     "output_type": "display_data"
    }
   ],
   "source": [
    "y_vacc = hist2.history['val_accuracy']\n",
    "y_acc = hist2.history['accuracy']\n",
    "x_len = np.arange(len(y_acc))\n",
    "\n",
    "plt.plot(x_len, y_vacc, marker='.', c='red', label=\"Validation-set accuracy\")\n",
    "plt.plot(x_len, y_acc, marker='.', c='blue', label=\"Train-set accuracy\")\n",
    "plt.legend()\n",
    "plt.title('cnn_epoch40_accuracy')\n",
    "#plt.savefig('/home/sbml/nicer/220517peak_new/CNN/acc_allpeak.svg')"
   ]
  },
  {
   "cell_type": "code",
   "execution_count": 276,
   "id": "82c66b81",
   "metadata": {},
   "outputs": [],
   "source": [
    "#model_cnn.save('/home/sbml/nicer/220517peak_new/CNN/training_TF_ver2.h5')"
   ]
  },
  {
   "cell_type": "code",
   "execution_count": 312,
   "id": "b52765d7",
   "metadata": {},
   "outputs": [],
   "source": [
    "predict = model_cnn.predict(x_test)\n",
    "\n",
    "predict_labels = np.argmax(predict, axis = 1)\n",
    "\n",
    "test_labels = np.argmax(y_test, axis = 1)"
   ]
  },
  {
   "cell_type": "code",
   "execution_count": 313,
   "id": "967a2606",
   "metadata": {},
   "outputs": [
    {
     "name": "stdout",
     "output_type": "stream",
     "text": [
      "accuracy_test =  0.955\n"
     ]
    }
   ],
   "source": [
    "cnt = 0\n",
    "p = []\n",
    "t = []\n",
    "for i in range(len(predict_labels)):\n",
    "    p.append(predict_labels[i])\n",
    "    t.append(test_labels[i])\n",
    "    if predict_labels[i] == test_labels[i]:\n",
    "        cnt = cnt+1\n",
    "\n",
    "acc = cnt/len(predict_labels)\n",
    "print('accuracy_test = ', acc)"
   ]
  },
  {
   "cell_type": "code",
   "execution_count": 314,
   "id": "f503fb56",
   "metadata": {},
   "outputs": [
    {
     "data": {
      "text/plain": [
       "array([[314,  19],\n",
       "       [  8, 259]])"
      ]
     },
     "execution_count": 314,
     "metadata": {},
     "output_type": "execute_result"
    }
   ],
   "source": [
    "from sklearn.metrics import confusion_matrix\n",
    "\n",
    "confusion_matrix(test_labels, predict_labels)"
   ]
  },
  {
   "cell_type": "code",
   "execution_count": 315,
   "id": "d664efc1",
   "metadata": {},
   "outputs": [
    {
     "data": {
      "image/png": "[encoded data removed]",
      "text/plain": [
       "<Figure size 432x288 with 2 Axes>"
      ]
     },
     "metadata": {
      "needs_background": "light"
     },
     "output_type": "display_data"
    }
   ],
   "source": [
    "def plot_confusion_matrix(cm, classes, normalize=False, title='Confusion matrix', cmap=plt.cm.Blues):\n",
    "    plt.imshow(cm, interpolation='nearest', cmap=cmap)\n",
    "    plt.title(title)\n",
    "    plt.colorbar()\n",
    "    tick_marks=np.arange(len(classes))\n",
    "    plt.xticks(tick_marks, classes, rotation=45)\n",
    "    plt.yticks(tick_marks, classes)\n",
    "    \n",
    "    if normalize:\n",
    "        cm = cm.astype('float') / cm.sum(axis=1)[:, np.newaxis]\n",
    "        \n",
    "    thresh = cm.max() / 2.\n",
    "    for i, j in itertools.product(range(cm.shape[0]), range(cm.shape[1])):\n",
    "        plt.text(j, i, cm[i, j], horizontalalignment=\"center\", color=\"white\" if cm[i, j] > thresh else \"black\")\n",
    "    \n",
    "    plt.tight_layout()\n",
    "    plt.ylabel('True label')\n",
    "    plt.xlabel('Predicted label')\n",
    "    \n",
    "\n",
    "confusion_mtx = confusion_matrix(test_labels, predict_labels)\n",
    "\n",
    "plot_confusion_matrix(confusion_mtx, classes = ['False', 'True'])"
   ]
  },
  {
   "cell_type": "code",
   "execution_count": null,
   "id": "b41483cf",
   "metadata": {},
   "outputs": [],
   "source": []
  }
 ],
 "metadata": {
  "kernelspec": {
   "display_name": "Python 3",
   "language": "python",
   "name": "python3"
  },
  "language_info": {
   "codemirror_mode": {
    "name": "ipython",
    "version": 3
   },
   "file_extension": ".py",
   "mimetype": "text/x-python",
   "name": "python",
   "nbconvert_exporter": "python",
   "pygments_lexer": "ipython3",
   "version": "3.8.8"
  }
 },
 "nbformat": 4,
 "nbformat_minor": 5
}
